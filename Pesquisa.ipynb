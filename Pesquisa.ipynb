{
 "cells": [
  {
   "cell_type": "markdown",
   "metadata": {},
   "source": [
    "# **Agricultura e Agroindústria: Maximizando Recursos e Estratégias**"
   ]
  },
  {
   "cell_type": "markdown",
   "metadata": {},
   "source": [
    "## 1. Introdução"
   ]
  },
  {
   "cell_type": "markdown",
   "metadata": {},
   "source": [
    "### 1.1. Contextualização"
   ]
  },
  {
   "cell_type": "markdown",
   "metadata": {},
   "source": [
    "A indústria agrícola e agroindustrial tem passado por transformações significativas devido à necessidade de otimização de recursos e maximização da produção. Com o avanço da tecnologia e a disponibilidade de grandes conjuntos de dados, surge a oportunidade de utilizar métodos de KDD para descobrir padrões e insights cruciais para a tomada de decisões estratégicas."
   ]
  },
  {
   "cell_type": "markdown",
   "metadata": {},
   "source": [
    "### 1.2. Objetivo"
   ]
  },
  {
   "cell_type": "markdown",
   "metadata": {},
   "source": [
    "O objetivo principal da pesquisa se apoia no método KDD (_Knowledge Discovery in Databases_) para analisar dados relacionados à produção agroindustrial. Ao realizar tal ato, buscamos:\n",
    "\n",
    "- Identificar deficiências de produção em diferentes produtos agrícolas;\n",
    "\n",
    "- Desenvolver modelos de previsão de safras baseados em dados históricos;\n",
    "\n",
    "- Buscar oportunidades de mercado, como demandas crescentes por certos produtos;\n",
    "\n",
    "- Estimar a demanda futura com base em tendências de mercado e sazonalidade, auxiliando no planejamento de produção e distribuição;\n"
   ]
  },
  {
   "cell_type": "markdown",
   "metadata": {},
   "source": [
    "### 1.3. Metodologia"
   ]
  },
  {
   "cell_type": "markdown",
   "metadata": {},
   "source": [
    "Como mensionado na sessão [Objetivo](#objetivo), a utilização do método KDD será crucial para o desenvolvimento organizado e estruturado da pesquisa. O termo KDD foi formalizado em 1989 em referência ao amplo conceito de procurar conhecimento a partir de bases de dados. Segundo pesquisadores: \n",
    ">“KDD é um processo, de várias etapas, não trivial, interativo e iterativo, para identificação de padrões compreensíveis, válidos, novos e potencialmente úteis a partir de grandes conjuntos de dados”. (Fayyad et al.,\n",
    "1996a)\n",
    "\n",
    "A Descoberta de Conhecimento em Bases de Dados é caracterizada como\n",
    "um processo composto por várias etapas operacionais:  \n",
    "A etapa de Pré-processamento, Mineração de Dados e o Pós-processamento.  \n",
    "\n",
    "Além do método, utilizaremos a linguagem de programação python e suas seguintes bibliotecas: Pandas para a manipulação dos dados e Matplotlib para uma visualização simples e objetiva por meio de graficos e tabelas. \n",
    "\n",
    "Bases de dados utilizadas:\n",
    "  - IBGE -> SIDRA - [PAM (Produção Agrícola Municipal)](https://sidra.ibge.gov.br/pesquisa/pam/tabelas)   "
   ]
  },
  {
   "cell_type": "markdown",
   "metadata": {},
   "source": [
    "## 2. Etapas operacionais"
   ]
  },
  {
   "cell_type": "markdown",
   "metadata": {},
   "source": [
    "### 2.1. Pré-processamento"
   ]
  },
  {
   "cell_type": "markdown",
   "metadata": {},
   "source": [
    "A etapa de Pré-processamento compreende todas as funções relacionadas à captação, à organização e ao tratamento dos dados. Essa etapa tem como objetivo a preparação dos dados para os algoritmos da etapa da Mineração de Dados.  "
   ]
  },
  {
   "cell_type": "markdown",
   "metadata": {},
   "source": [
    "Para começarmos o tratamento dos dados, é importante primeiro importar as bibliotecas que serão utilizadas."
   ]
  },
  {
   "cell_type": "code",
   "execution_count": 24,
   "metadata": {},
   "outputs": [],
   "source": [
    "import pandas as pd\n",
    "import matplotlib.pyplot as plt\n",
    "import seaborn as sns\n",
    "%matplotlib inline"
   ]
  },
  {
   "cell_type": "markdown",
   "metadata": {},
   "source": [
    "Agora armazenaremos nossas bases de dados `.csv` as variáveis"
   ]
  },
  {
   "cell_type": "code",
   "execution_count": 3,
   "metadata": {},
   "outputs": [
    {
     "data": {
      "text/html": [
       "<div>\n",
       "<style scoped>\n",
       "    .dataframe tbody tr th:only-of-type {\n",
       "        vertical-align: middle;\n",
       "    }\n",
       "\n",
       "    .dataframe tbody tr th {\n",
       "        vertical-align: top;\n",
       "    }\n",
       "\n",
       "    .dataframe thead th {\n",
       "        text-align: right;\n",
       "    }\n",
       "</style>\n",
       "<table border=\"1\" class=\"dataframe\">\n",
       "  <thead>\n",
       "    <tr style=\"text-align: right;\">\n",
       "      <th></th>\n",
       "      <th>Brasil e Unidade da Federação</th>\n",
       "      <th>Abacate (2020)</th>\n",
       "      <th>Alho (2020)</th>\n",
       "      <th>Amendoim (em casca) (2020)</th>\n",
       "      <th>Arroz (em casca) (2020)</th>\n",
       "      <th>Aveia (em grão) (2020)</th>\n",
       "      <th>Azeitona (2020)</th>\n",
       "      <th>Banana (cacho) (2020)</th>\n",
       "      <th>Batata-doce (2020)</th>\n",
       "      <th>Batata-inglesa (2020)</th>\n",
       "      <th>...</th>\n",
       "      <th>Noz (fruto seco) (2022)</th>\n",
       "      <th>Pera (2022)</th>\n",
       "      <th>Pêssego (2022)</th>\n",
       "      <th>Pimenta-do-reino (2022)</th>\n",
       "      <th>Soja (em grão) (2022)</th>\n",
       "      <th>Sorgo (em grão) (2022)</th>\n",
       "      <th>Tangerina (2022)</th>\n",
       "      <th>Tomate (2022)</th>\n",
       "      <th>Trigo (em grão) (2022)</th>\n",
       "      <th>Uva (2022)</th>\n",
       "    </tr>\n",
       "  </thead>\n",
       "  <tbody>\n",
       "    <tr>\n",
       "      <th>0</th>\n",
       "      <td>Brasil</td>\n",
       "      <td>267059</td>\n",
       "      <td>155741</td>\n",
       "      <td>651126</td>\n",
       "      <td>11091011</td>\n",
       "      <td>898405</td>\n",
       "      <td>2651</td>\n",
       "      <td>6593437</td>\n",
       "      <td>849397</td>\n",
       "      <td>3752999</td>\n",
       "      <td>...</td>\n",
       "      <td>6127</td>\n",
       "      <td>17525</td>\n",
       "      <td>208823</td>\n",
       "      <td>128331</td>\n",
       "      <td>120701031</td>\n",
       "      <td>2923318</td>\n",
       "      <td>1086616</td>\n",
       "      <td>3809986</td>\n",
       "      <td>10343182</td>\n",
       "      <td>1450805</td>\n",
       "    </tr>\n",
       "    <tr>\n",
       "      <th>1</th>\n",
       "      <td>Rondônia</td>\n",
       "      <td>150</td>\n",
       "      <td>-</td>\n",
       "      <td>169</td>\n",
       "      <td>112848</td>\n",
       "      <td>-</td>\n",
       "      <td>-</td>\n",
       "      <td>83975</td>\n",
       "      <td>-</td>\n",
       "      <td>-</td>\n",
       "      <td>...</td>\n",
       "      <td>-</td>\n",
       "      <td>-</td>\n",
       "      <td>-</td>\n",
       "      <td>141</td>\n",
       "      <td>1750249</td>\n",
       "      <td>-</td>\n",
       "      <td>462</td>\n",
       "      <td>6791</td>\n",
       "      <td>-</td>\n",
       "      <td>76</td>\n",
       "    </tr>\n",
       "    <tr>\n",
       "      <th>2</th>\n",
       "      <td>Acre</td>\n",
       "      <td>537</td>\n",
       "      <td>-</td>\n",
       "      <td>120</td>\n",
       "      <td>4626</td>\n",
       "      <td>-</td>\n",
       "      <td>-</td>\n",
       "      <td>86113</td>\n",
       "      <td>591</td>\n",
       "      <td>-</td>\n",
       "      <td>...</td>\n",
       "      <td>-</td>\n",
       "      <td>-</td>\n",
       "      <td>-</td>\n",
       "      <td>-</td>\n",
       "      <td>22667</td>\n",
       "      <td>-</td>\n",
       "      <td>2151</td>\n",
       "      <td>-</td>\n",
       "      <td>-</td>\n",
       "      <td>-</td>\n",
       "    </tr>\n",
       "    <tr>\n",
       "      <th>3</th>\n",
       "      <td>Amazonas</td>\n",
       "      <td>391</td>\n",
       "      <td>-</td>\n",
       "      <td>-</td>\n",
       "      <td>1680</td>\n",
       "      <td>-</td>\n",
       "      <td>-</td>\n",
       "      <td>92670</td>\n",
       "      <td>6471</td>\n",
       "      <td>-</td>\n",
       "      <td>...</td>\n",
       "      <td>-</td>\n",
       "      <td>-</td>\n",
       "      <td>-</td>\n",
       "      <td>24</td>\n",
       "      <td>13740</td>\n",
       "      <td>-</td>\n",
       "      <td>266</td>\n",
       "      <td>200</td>\n",
       "      <td>196</td>\n",
       "      <td>-</td>\n",
       "    </tr>\n",
       "    <tr>\n",
       "      <th>4</th>\n",
       "      <td>Roraima</td>\n",
       "      <td>-</td>\n",
       "      <td>-</td>\n",
       "      <td>-</td>\n",
       "      <td>71054</td>\n",
       "      <td>-</td>\n",
       "      <td>-</td>\n",
       "      <td>62239</td>\n",
       "      <td>5220</td>\n",
       "      <td>-</td>\n",
       "      <td>...</td>\n",
       "      <td>-</td>\n",
       "      <td>-</td>\n",
       "      <td>-</td>\n",
       "      <td>-</td>\n",
       "      <td>346647</td>\n",
       "      <td>-</td>\n",
       "      <td>708</td>\n",
       "      <td>3135</td>\n",
       "      <td>-</td>\n",
       "      <td>-</td>\n",
       "    </tr>\n",
       "  </tbody>\n",
       "</table>\n",
       "<p>5 rows × 115 columns</p>\n",
       "</div>"
      ],
      "text/plain": [
       "  Brasil e Unidade da Federação Abacate (2020) Alho (2020)  \\\n",
       "0                        Brasil         267059      155741   \n",
       "1                      Rondônia            150           -   \n",
       "2                          Acre            537           -   \n",
       "3                      Amazonas            391           -   \n",
       "4                       Roraima              -           -   \n",
       "\n",
       "  Amendoim (em casca) (2020) Arroz (em casca) (2020) Aveia (em grão) (2020)  \\\n",
       "0                     651126                11091011                 898405   \n",
       "1                        169                  112848                      -   \n",
       "2                        120                    4626                      -   \n",
       "3                          -                    1680                      -   \n",
       "4                          -                   71054                      -   \n",
       "\n",
       "  Azeitona (2020) Banana (cacho) (2020) Batata-doce (2020)  \\\n",
       "0            2651               6593437             849397   \n",
       "1               -                 83975                  -   \n",
       "2               -                 86113                591   \n",
       "3               -                 92670               6471   \n",
       "4               -                 62239               5220   \n",
       "\n",
       "  Batata-inglesa (2020)  ... Noz (fruto seco) (2022) Pera (2022)  \\\n",
       "0               3752999  ...                    6127       17525   \n",
       "1                     -  ...                       -           -   \n",
       "2                     -  ...                       -           -   \n",
       "3                     -  ...                       -           -   \n",
       "4                     -  ...                       -           -   \n",
       "\n",
       "  Pêssego (2022) Pimenta-do-reino (2022) Soja (em grão) (2022)  \\\n",
       "0         208823                  128331             120701031   \n",
       "1              -                     141               1750249   \n",
       "2              -                       -                 22667   \n",
       "3              -                      24                 13740   \n",
       "4              -                       -                346647   \n",
       "\n",
       "  Sorgo (em grão) (2022) Tangerina (2022) Tomate (2022)  \\\n",
       "0                2923318          1086616       3809986   \n",
       "1                      -              462          6791   \n",
       "2                      -             2151             -   \n",
       "3                      -              266           200   \n",
       "4                      -              708          3135   \n",
       "\n",
       "  Trigo (em grão) (2022) Uva (2022)  \n",
       "0               10343182    1450805  \n",
       "1                      -         76  \n",
       "2                      -          -  \n",
       "3                    196          -  \n",
       "4                      -          -  \n",
       "\n",
       "[5 rows x 115 columns]"
      ]
     },
     "execution_count": 3,
     "metadata": {},
     "output_type": "execute_result"
    }
   ],
   "source": [
    "# Indicando local da base de dados\n",
    "Prod = pd.read_csv(\"Bases_de_dados/Produção_2020-2022.csv\", delimiter=\";\")\n",
    "\n",
    "# Mostra as 5 primeiras informações da base de dados, apenas para termos certeza de que foi alocada com sucesso\n",
    "Prod.head()\n",
    "# ar_p.head()\n",
    "# quant_p.head()"
   ]
  },
  {
   "cell_type": "code",
   "execution_count": 4,
   "metadata": {},
   "outputs": [
    {
     "data": {
      "text/plain": [
       "Brasil e Unidade da Federação    0\n",
       "Cacau (em amêndoa) (2022)        0\n",
       "Batata-doce (2022)               0\n",
       "Banana (cacho) (2022)            0\n",
       "Azeitona (2022)                  0\n",
       "Aveia (em grão) (2022)           0\n",
       "Arroz (em casca) (2022)          0\n",
       "Amendoim (em casca) (2022)       0\n",
       "Alho (2022)                      0\n",
       "Abacate (2022)                   0\n",
       "dtype: int64"
      ]
     },
     "execution_count": 4,
     "metadata": {},
     "output_type": "execute_result"
    }
   ],
   "source": [
    "# Verificando a quantidade de campos vazios(nulos)\n",
    "Prod.isnull().sum().sort_values(ascending=False) [:10]\n"
   ]
  },
  {
   "cell_type": "markdown",
   "metadata": {},
   "source": [
    "Ao analisar nossas bases de dados, observamos que há muitos campos vazios(a base de dados nos entrega como \"-\"). A presença desses campos vazios pode prejudicar nossa análise. Para lidar com isso, podemos tratar esses campos definindo os **valores ausentes como -1**. Dessa forma, poderemos identificar claramente onde não ocorreu uma determinada safra."
   ]
  },
  {
   "cell_type": "code",
   "execution_count": 20,
   "metadata": {},
   "outputs": [
    {
     "data": {
      "text/html": [
       "<div>\n",
       "<style scoped>\n",
       "    .dataframe tbody tr th:only-of-type {\n",
       "        vertical-align: middle;\n",
       "    }\n",
       "\n",
       "    .dataframe tbody tr th {\n",
       "        vertical-align: top;\n",
       "    }\n",
       "\n",
       "    .dataframe thead th {\n",
       "        text-align: right;\n",
       "    }\n",
       "</style>\n",
       "<table border=\"1\" class=\"dataframe\">\n",
       "  <thead>\n",
       "    <tr style=\"text-align: right;\">\n",
       "      <th></th>\n",
       "      <th>Brasil e Unidade da Federação</th>\n",
       "      <th>Abacate (2020)</th>\n",
       "      <th>Alho (2020)</th>\n",
       "      <th>Amendoim (em casca) (2020)</th>\n",
       "      <th>Arroz (em casca) (2020)</th>\n",
       "      <th>Aveia (em grão) (2020)</th>\n",
       "      <th>Azeitona (2020)</th>\n",
       "      <th>Banana (cacho) (2020)</th>\n",
       "      <th>Batata-doce (2020)</th>\n",
       "      <th>Batata-inglesa (2020)</th>\n",
       "      <th>...</th>\n",
       "      <th>Noz (fruto seco) (2022)</th>\n",
       "      <th>Pera (2022)</th>\n",
       "      <th>Pêssego (2022)</th>\n",
       "      <th>Pimenta-do-reino (2022)</th>\n",
       "      <th>Soja (em grão) (2022)</th>\n",
       "      <th>Sorgo (em grão) (2022)</th>\n",
       "      <th>Tangerina (2022)</th>\n",
       "      <th>Tomate (2022)</th>\n",
       "      <th>Trigo (em grão) (2022)</th>\n",
       "      <th>Uva (2022)</th>\n",
       "    </tr>\n",
       "  </thead>\n",
       "  <tbody>\n",
       "    <tr>\n",
       "      <th>0</th>\n",
       "      <td>Brasil</td>\n",
       "      <td>267059</td>\n",
       "      <td>155741</td>\n",
       "      <td>651126</td>\n",
       "      <td>11091011</td>\n",
       "      <td>898405</td>\n",
       "      <td>2651</td>\n",
       "      <td>6593437</td>\n",
       "      <td>849397</td>\n",
       "      <td>3752999</td>\n",
       "      <td>...</td>\n",
       "      <td>6127</td>\n",
       "      <td>17525</td>\n",
       "      <td>208823</td>\n",
       "      <td>128331</td>\n",
       "      <td>120701031</td>\n",
       "      <td>2923318</td>\n",
       "      <td>1086616</td>\n",
       "      <td>3809986</td>\n",
       "      <td>10343182</td>\n",
       "      <td>1450805</td>\n",
       "    </tr>\n",
       "    <tr>\n",
       "      <th>1</th>\n",
       "      <td>Rondônia</td>\n",
       "      <td>150</td>\n",
       "      <td>-1</td>\n",
       "      <td>169</td>\n",
       "      <td>112848</td>\n",
       "      <td>-1</td>\n",
       "      <td>-1</td>\n",
       "      <td>83975</td>\n",
       "      <td>-1</td>\n",
       "      <td>-1</td>\n",
       "      <td>...</td>\n",
       "      <td>-1</td>\n",
       "      <td>-1</td>\n",
       "      <td>-1</td>\n",
       "      <td>141</td>\n",
       "      <td>1750249</td>\n",
       "      <td>-1</td>\n",
       "      <td>462</td>\n",
       "      <td>6791</td>\n",
       "      <td>-1</td>\n",
       "      <td>76</td>\n",
       "    </tr>\n",
       "    <tr>\n",
       "      <th>2</th>\n",
       "      <td>Acre</td>\n",
       "      <td>537</td>\n",
       "      <td>-1</td>\n",
       "      <td>120</td>\n",
       "      <td>4626</td>\n",
       "      <td>-1</td>\n",
       "      <td>-1</td>\n",
       "      <td>86113</td>\n",
       "      <td>591</td>\n",
       "      <td>-1</td>\n",
       "      <td>...</td>\n",
       "      <td>-1</td>\n",
       "      <td>-1</td>\n",
       "      <td>-1</td>\n",
       "      <td>-1</td>\n",
       "      <td>22667</td>\n",
       "      <td>-1</td>\n",
       "      <td>2151</td>\n",
       "      <td>-1</td>\n",
       "      <td>-1</td>\n",
       "      <td>-1</td>\n",
       "    </tr>\n",
       "    <tr>\n",
       "      <th>3</th>\n",
       "      <td>Amazonas</td>\n",
       "      <td>391</td>\n",
       "      <td>-1</td>\n",
       "      <td>-1</td>\n",
       "      <td>1680</td>\n",
       "      <td>-1</td>\n",
       "      <td>-1</td>\n",
       "      <td>92670</td>\n",
       "      <td>6471</td>\n",
       "      <td>-1</td>\n",
       "      <td>...</td>\n",
       "      <td>-1</td>\n",
       "      <td>-1</td>\n",
       "      <td>-1</td>\n",
       "      <td>24</td>\n",
       "      <td>13740</td>\n",
       "      <td>-1</td>\n",
       "      <td>266</td>\n",
       "      <td>200</td>\n",
       "      <td>196</td>\n",
       "      <td>-1</td>\n",
       "    </tr>\n",
       "    <tr>\n",
       "      <th>4</th>\n",
       "      <td>Roraima</td>\n",
       "      <td>-1</td>\n",
       "      <td>-1</td>\n",
       "      <td>-1</td>\n",
       "      <td>71054</td>\n",
       "      <td>-1</td>\n",
       "      <td>-1</td>\n",
       "      <td>62239</td>\n",
       "      <td>5220</td>\n",
       "      <td>-1</td>\n",
       "      <td>...</td>\n",
       "      <td>-1</td>\n",
       "      <td>-1</td>\n",
       "      <td>-1</td>\n",
       "      <td>-1</td>\n",
       "      <td>346647</td>\n",
       "      <td>-1</td>\n",
       "      <td>708</td>\n",
       "      <td>3135</td>\n",
       "      <td>-1</td>\n",
       "      <td>-1</td>\n",
       "    </tr>\n",
       "  </tbody>\n",
       "</table>\n",
       "<p>5 rows × 115 columns</p>\n",
       "</div>"
      ],
      "text/plain": [
       "  Brasil e Unidade da Federação Abacate (2020) Alho (2020)  \\\n",
       "0                        Brasil         267059      155741   \n",
       "1                      Rondônia            150          -1   \n",
       "2                          Acre            537          -1   \n",
       "3                      Amazonas            391          -1   \n",
       "4                       Roraima             -1          -1   \n",
       "\n",
       "  Amendoim (em casca) (2020) Arroz (em casca) (2020) Aveia (em grão) (2020)  \\\n",
       "0                     651126                11091011                 898405   \n",
       "1                        169                  112848                     -1   \n",
       "2                        120                    4626                     -1   \n",
       "3                         -1                    1680                     -1   \n",
       "4                         -1                   71054                     -1   \n",
       "\n",
       "  Azeitona (2020) Banana (cacho) (2020) Batata-doce (2020)  \\\n",
       "0            2651               6593437             849397   \n",
       "1              -1                 83975                 -1   \n",
       "2              -1                 86113                591   \n",
       "3              -1                 92670               6471   \n",
       "4              -1                 62239               5220   \n",
       "\n",
       "  Batata-inglesa (2020)  ... Noz (fruto seco) (2022) Pera (2022)  \\\n",
       "0               3752999  ...                    6127       17525   \n",
       "1                    -1  ...                      -1          -1   \n",
       "2                    -1  ...                      -1          -1   \n",
       "3                    -1  ...                      -1          -1   \n",
       "4                    -1  ...                      -1          -1   \n",
       "\n",
       "  Pêssego (2022) Pimenta-do-reino (2022) Soja (em grão) (2022)  \\\n",
       "0         208823                  128331             120701031   \n",
       "1             -1                     141               1750249   \n",
       "2             -1                      -1                 22667   \n",
       "3             -1                      24                 13740   \n",
       "4             -1                      -1                346647   \n",
       "\n",
       "  Sorgo (em grão) (2022) Tangerina (2022) Tomate (2022)  \\\n",
       "0                2923318          1086616       3809986   \n",
       "1                     -1              462          6791   \n",
       "2                     -1             2151            -1   \n",
       "3                     -1              266           200   \n",
       "4                     -1              708          3135   \n",
       "\n",
       "  Trigo (em grão) (2022) Uva (2022)  \n",
       "0               10343182    1450805  \n",
       "1                     -1         76  \n",
       "2                     -1         -1  \n",
       "3                    196         -1  \n",
       "4                     -1         -1  \n",
       "\n",
       "[5 rows x 115 columns]"
      ]
     },
     "execution_count": 20,
     "metadata": {},
     "output_type": "execute_result"
    }
   ],
   "source": [
    "# Substituir \"-\" por NaN\n",
    "Prod.replace({'-': pd.NA}, inplace=True)\n",
    "\n",
    "# Agora, substituir os valores NaN por -1\n",
    "Prod.fillna(-1, inplace=True)\n",
    "\n",
    "# Substituir \"...\" por NaN\n",
    "Prod.replace({'...': pd.NA}, inplace=True)\n",
    "\n",
    "# Agora, substituir os valores NaN por -1\n",
    "Prod.fillna(-1, inplace=True)\n",
    "\n",
    "\n",
    "Prod.head()"
   ]
  },
  {
   "cell_type": "markdown",
   "metadata": {},
   "source": [
    "Com os dados devidamente tratados, estamos prontos para iniciar o processo de mineração de dados."
   ]
  },
  {
   "cell_type": "markdown",
   "metadata": {},
   "source": [
    "### 2.2. Mineração de dados"
   ]
  },
  {
   "cell_type": "markdown",
   "metadata": {},
   "source": [
    "Durante a etapa de Mineração de Dados é realizada a busca efetiva por conhecimentos úteis no contexto da aplicação de KDD. É a principal etapa do processo de KDD. Envolve a aplicação de algoritmos sobre os dados em busca de conhecimento implícitos e úteis."
   ]
  },
  {
   "cell_type": "markdown",
   "metadata": {},
   "source": [
    "É relevante notar que nossa abordagem não incluirá técnicas de Inteligência Artificial, como _Lógica Nebulosa (Fuzzy Logic), Algoritmos Genéticos (AG), redes neurais_, entre outras metodologias mencionadas na literatura utilizada como referência. Nossas análises serão estritamente baseadas em lógica, visando precisão e fornecimento de resultados pertinentes."
   ]
  },
  {
   "cell_type": "markdown",
   "metadata": {},
   "source": [
    "##### 2.2.1. Identificar deficiências de produção em diferentes produtos agrícolas;"
   ]
  },
  {
   "cell_type": "markdown",
   "metadata": {},
   "source": [
    "Para começar utilizamos o banco de dados do IBGE e o Power Bi como ferramenta de analise de dados para a criação dos graficos e tratamento de tabelas, em seguida analisamos os dados e visualizamos a deficiência de produção agricola em cada um dos estados"
   ]
  },
  {
   "cell_type": "markdown",
   "metadata": {},
   "source": [
    "\n",
    "##### 2.2.2. Buscar oportunidades de mercado, como demandas crescentes por certos produtos;"
   ]
  },
  {
   "cell_type": "markdown",
   "metadata": {},
   "source": [
    "Desenvolver sessão aqui!"
   ]
  },
  {
   "cell_type": "markdown",
   "metadata": {},
   "source": [
    "##### 2.2.3. Desenvolver modelos de previsão de safras baseados em dados históricos;\n"
   ]
  },
  {
   "cell_type": "markdown",
   "metadata": {},
   "source": [
    "Desenvolver sessão aqui!"
   ]
  },
  {
   "cell_type": "markdown",
   "metadata": {},
   "source": [
    "##### 2.2.4. Estimar a demanda futura com base em tendências de mercado e sazonalidade, auxiliando no planejamento de produção e distribuição;"
   ]
  },
  {
   "cell_type": "markdown",
   "metadata": {},
   "source": [
    "Para darmos inicio, utilizaremos o dataframe da variável `Prod` criada e tratada na sessão de [Pré-processamento](#21-pré-processamento). Podemos analisar a quantidade produzida entre 2020 a 2022 de diversos produtos listados na base de dados."
   ]
  },
  {
   "cell_type": "markdown",
   "metadata": {},
   "source": [
    "### 2.3. Pós-processamento"
   ]
  }
 ],
 "metadata": {
  "kernelspec": {
   "display_name": "Python 3",
   "language": "python",
   "name": "python3"
  },
  "language_info": {
   "codemirror_mode": {
    "name": "ipython",
    "version": 3
   },
   "file_extension": ".py",
   "mimetype": "text/x-python",
   "name": "python",
   "nbconvert_exporter": "python",
   "pygments_lexer": "ipython3",
   "version": "3.12.2"
  }
 },
 "nbformat": 4,
 "nbformat_minor": 2
}
